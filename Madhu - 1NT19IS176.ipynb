{
 "cells": [
  {
   "cell_type": "code",
   "execution_count": 27,
   "metadata": {},
   "outputs": [
    {
     "name": "stdout",
     "output_type": "stream",
     "text": [
      "Mean:  125.87857142857142\n",
      "Median:  115.45\n",
      "Mode:  120\n",
      "Variance:  878.230255102041\n",
      "Std. Deviation:  29.634949892011644\n"
     ]
    }
   ],
   "source": [
    "def mean(nums):\n",
    "    res = 0\n",
    "    j=0\n",
    "    for i in nums:\n",
    "        res+=i\n",
    "        j+=1\n",
    "    return res/j\n",
    "        \n",
    "def median(nums):\n",
    "    n = len(nums)\n",
    "    if n%2==0:\n",
    "        return (nums[n//2] + nums[(n//2)-1])/2\n",
    "    else:\n",
    "        return nums[n//2]\n",
    "        \n",
    "\n",
    "def mode(nums):\n",
    "    res = {}\n",
    "    for i in nums:\n",
    "        if i in res.keys():\n",
    "            res[i]+=1\n",
    "        else:\n",
    "            res[i]=1\n",
    "    temp = 0\n",
    "    ans = 0\n",
    "#     print(res)\n",
    "    for i in res:\n",
    "#         print(i)\n",
    "        if res[i]>temp:\n",
    "            temp = res[i]\n",
    "            ans = i\n",
    "    return ans\n",
    "\n",
    "\n",
    "def variance(nums):\n",
    "    mu = mean(nums)\n",
    "    n = len(nums)\n",
    "    res = 0\n",
    "    for i in nums:\n",
    "        temp = i - mu\n",
    "        temp = temp*temp\n",
    "        res+=temp\n",
    "    return res/n\n",
    "\n",
    "def sd(nums):\n",
    "    return variance(nums)**0.5\n",
    "\n",
    "\n",
    "\n",
    "a = [115.3, 195.5, 120, 110.2, 90, 105.6, 110.9,120,195.5,115.3, 116.3, 122.3, 125.4,120]\n",
    "print(\"Mean: \",mean(a))\n",
    "print(\"Median: \",median(a))\n",
    "print(\"Mode: \",mode(a))\n",
    "print(\"Variance: \",variance(a))\n",
    "print(\"Std. Deviation: \",sd(a))\n",
    "\n",
    "\n"
   ]
  },
  {
   "cell_type": "code",
   "execution_count": null,
   "metadata": {},
   "outputs": [],
   "source": []
  }
 ],
 "metadata": {
  "kernelspec": {
   "display_name": "Python 3",
   "language": "python",
   "name": "python3"
  },
  "language_info": {
   "codemirror_mode": {
    "name": "ipython",
    "version": 3
   },
   "file_extension": ".py",
   "mimetype": "text/x-python",
   "name": "python",
   "nbconvert_exporter": "python",
   "pygments_lexer": "ipython3",
   "version": "3.7.6"
  }
 },
 "nbformat": 4,
 "nbformat_minor": 4
}
